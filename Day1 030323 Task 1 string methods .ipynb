{
 "cells": [
  {
   "cell_type": "markdown",
   "id": "3f3327a9",
   "metadata": {},
   "source": [
    "# Exploring string methods"
   ]
  },
  {
   "cell_type": "code",
   "execution_count": 1,
   "id": "47b74ac5",
   "metadata": {},
   "outputs": [],
   "source": [
    "myname=\"vijayalakshmi\""
   ]
  },
  {
   "cell_type": "code",
   "execution_count": 2,
   "id": "d1223386",
   "metadata": {},
   "outputs": [
    {
     "data": {
      "text/plain": [
       "'Vijayalakshmi'"
      ]
     },
     "execution_count": 2,
     "metadata": {},
     "output_type": "execute_result"
    }
   ],
   "source": [
    "myname.capitalize() #makes the first character of the string in uppercase"
   ]
  },
  {
   "cell_type": "code",
   "execution_count": 3,
   "id": "befb169b",
   "metadata": {},
   "outputs": [
    {
     "data": {
      "text/plain": [
       "'vijayalakshmi'"
      ]
     },
     "execution_count": 3,
     "metadata": {},
     "output_type": "execute_result"
    }
   ],
   "source": [
    "myname.casefold() #shows all the characters in lowercase, similar to lower(). but it can chage more characters "
   ]
  },
  {
   "cell_type": "code",
   "execution_count": 8,
   "id": "df34589f",
   "metadata": {},
   "outputs": [
    {
     "data": {
      "text/plain": [
       "'&&&&&&vijayalakshmi&&&&&&'"
      ]
     },
     "execution_count": 8,
     "metadata": {},
     "output_type": "execute_result"
    }
   ],
   "source": [
    "myname.center(25,'&') #1st argument is total no of characters, \n",
    "                      #2nd is symbol to be filled and \n",
    "                      #center methods makes the string to place it in the center."
   ]
  },
  {
   "cell_type": "code",
   "execution_count": 10,
   "id": "8d3fae8c",
   "metadata": {},
   "outputs": [
    {
     "data": {
      "text/plain": [
       "'   vijayalakshmi    '"
      ]
     },
     "execution_count": 10,
     "metadata": {},
     "output_type": "execute_result"
    }
   ],
   "source": [
    "myname.center(20)"
   ]
  },
  {
   "cell_type": "code",
   "execution_count": 11,
   "id": "512f5b4e",
   "metadata": {},
   "outputs": [
    {
     "data": {
      "text/plain": [
       "2"
      ]
     },
     "execution_count": 11,
     "metadata": {},
     "output_type": "execute_result"
    }
   ],
   "source": [
    "myname.count(\"i\") #gives the total nos of the given character"
   ]
  },
  {
   "cell_type": "code",
   "execution_count": 12,
   "id": "b5c2dec3",
   "metadata": {},
   "outputs": [
    {
     "data": {
      "text/plain": [
       "b'vijayalakshmi'"
      ]
     },
     "execution_count": 12,
     "metadata": {},
     "output_type": "execute_result"
    }
   ],
   "source": [
    "myname.encode(\"ascii\")"
   ]
  },
  {
   "cell_type": "code",
   "execution_count": 13,
   "id": "de4beb43",
   "metadata": {},
   "outputs": [
    {
     "data": {
      "text/plain": [
       "True"
      ]
     },
     "execution_count": 13,
     "metadata": {},
     "output_type": "execute_result"
    }
   ],
   "source": [
    "myname.endswith(\"i\") #returns True, if the given string is ended with the given character, otherwise it returns false"
   ]
  },
  {
   "cell_type": "code",
   "execution_count": 14,
   "id": "24c1311e",
   "metadata": {},
   "outputs": [
    {
     "data": {
      "text/plain": [
       "False"
      ]
     },
     "execution_count": 14,
     "metadata": {},
     "output_type": "execute_result"
    }
   ],
   "source": [
    "myname.endswith(\"!\")"
   ]
  },
  {
   "cell_type": "code",
   "execution_count": 16,
   "id": "700d966a",
   "metadata": {},
   "outputs": [],
   "source": [
    "myname1=\"v\\ti\\tj\\ti\""
   ]
  },
  {
   "cell_type": "code",
   "execution_count": 17,
   "id": "8977d193",
   "metadata": {},
   "outputs": [
    {
     "data": {
      "text/plain": [
       "'v           i           j           i'"
      ]
     },
     "execution_count": 17,
     "metadata": {},
     "output_type": "execute_result"
    }
   ],
   "source": [
    "myname1.expandtabs(12)"
   ]
  },
  {
   "cell_type": "code",
   "execution_count": 18,
   "id": "6ce92876",
   "metadata": {},
   "outputs": [],
   "source": [
    "myname2=\"Vijaya Lakshmi\" #returns the starting index of the given string, space included. starting index is 0 "
   ]
  },
  {
   "cell_type": "code",
   "execution_count": 19,
   "id": "e42569a6",
   "metadata": {},
   "outputs": [
    {
     "data": {
      "text/plain": [
       "7"
      ]
     },
     "execution_count": 19,
     "metadata": {},
     "output_type": "execute_result"
    }
   ],
   "source": [
    "myname2.find(\"Lakshmi\")"
   ]
  },
  {
   "cell_type": "code",
   "execution_count": 21,
   "id": "a16a5882",
   "metadata": {},
   "outputs": [],
   "source": [
    "myname3=\"I'm {name}, I want to become a {job}\".format(name=\"vijayalakshmi\",job=\"DataScientist\")"
   ]
  },
  {
   "cell_type": "code",
   "execution_count": 22,
   "id": "55250373",
   "metadata": {},
   "outputs": [
    {
     "name": "stdout",
     "output_type": "stream",
     "text": [
      "I'm vijayalakshmi, I want to become a DataScientist\n"
     ]
    }
   ],
   "source": [
    "print(myname3)"
   ]
  },
  {
   "cell_type": "code",
   "execution_count": 23,
   "id": "894bdd07",
   "metadata": {},
   "outputs": [],
   "source": [
    "myname4={'fn':'vijaya','ln':'Lakshmi'}#works with dictionary"
   ]
  },
  {
   "cell_type": "code",
   "execution_count": 25,
   "id": "224b7a17",
   "metadata": {},
   "outputs": [
    {
     "name": "stdout",
     "output_type": "stream",
     "text": [
      "Lakshmi's first name is vijaya\n"
     ]
    }
   ],
   "source": [
    "print(\"{ln}'s first name is {fn}\".format_map(myname4))"
   ]
  },
  {
   "cell_type": "code",
   "execution_count": 26,
   "id": "478cbeb0",
   "metadata": {},
   "outputs": [
    {
     "data": {
      "text/plain": [
       "6"
      ]
     },
     "execution_count": 26,
     "metadata": {},
     "output_type": "execute_result"
    }
   ],
   "source": [
    "myname.index(\"l\")#returns the index values of the given character"
   ]
  },
  {
   "cell_type": "code",
   "execution_count": 27,
   "id": "06fc2471",
   "metadata": {},
   "outputs": [
    {
     "data": {
      "text/plain": [
       "1"
      ]
     },
     "execution_count": 27,
     "metadata": {},
     "output_type": "execute_result"
    }
   ],
   "source": [
    "myname.index(\"i\")  #if the character repeats, it gives the index of the 1st occurance  "
   ]
  },
  {
   "cell_type": "code",
   "execution_count": 36,
   "id": "99b94962",
   "metadata": {},
   "outputs": [],
   "source": [
    "name=\"viji25\""
   ]
  },
  {
   "cell_type": "code",
   "execution_count": 37,
   "id": "21ccdadf",
   "metadata": {},
   "outputs": [
    {
     "data": {
      "text/plain": [
       "True"
      ]
     },
     "execution_count": 37,
     "metadata": {},
     "output_type": "execute_result"
    }
   ],
   "source": [
    "name.isalnum()"
   ]
  },
  {
   "cell_type": "code",
   "execution_count": 38,
   "id": "c7048a9f",
   "metadata": {},
   "outputs": [
    {
     "data": {
      "text/plain": [
       "True"
      ]
     },
     "execution_count": 38,
     "metadata": {},
     "output_type": "execute_result"
    }
   ],
   "source": [
    "myname.isalpha()\n"
   ]
  },
  {
   "cell_type": "code",
   "execution_count": 39,
   "id": "26e284ac",
   "metadata": {},
   "outputs": [
    {
     "data": {
      "text/plain": [
       "True"
      ]
     },
     "execution_count": 39,
     "metadata": {},
     "output_type": "execute_result"
    }
   ],
   "source": [
    "myname.isascii()"
   ]
  },
  {
   "cell_type": "code",
   "execution_count": 40,
   "id": "a4806624",
   "metadata": {},
   "outputs": [
    {
     "data": {
      "text/plain": [
       "False"
      ]
     },
     "execution_count": 40,
     "metadata": {},
     "output_type": "execute_result"
    }
   ],
   "source": [
    "myname.isdecimal()"
   ]
  },
  {
   "cell_type": "code",
   "execution_count": 41,
   "id": "c0c62199",
   "metadata": {},
   "outputs": [
    {
     "data": {
      "text/plain": [
       "False"
      ]
     },
     "execution_count": 41,
     "metadata": {},
     "output_type": "execute_result"
    }
   ],
   "source": [
    "myname.isdigit()"
   ]
  },
  {
   "cell_type": "code",
   "execution_count": 44,
   "id": "f698bf82",
   "metadata": {},
   "outputs": [
    {
     "data": {
      "text/plain": [
       "True"
      ]
     },
     "execution_count": 44,
     "metadata": {},
     "output_type": "execute_result"
    }
   ],
   "source": [
    "myname.isidentifier()"
   ]
  },
  {
   "cell_type": "code",
   "execution_count": 45,
   "id": "5847429c",
   "metadata": {},
   "outputs": [
    {
     "data": {
      "text/plain": [
       "True"
      ]
     },
     "execution_count": 45,
     "metadata": {},
     "output_type": "execute_result"
    }
   ],
   "source": [
    "myname.islower()"
   ]
  },
  {
   "cell_type": "code",
   "execution_count": 46,
   "id": "4917f408",
   "metadata": {},
   "outputs": [],
   "source": [
    "nm=\"VIJAYA\""
   ]
  },
  {
   "cell_type": "code",
   "execution_count": 47,
   "id": "00f9753d",
   "metadata": {},
   "outputs": [
    {
     "data": {
      "text/plain": [
       "False"
      ]
     },
     "execution_count": 47,
     "metadata": {},
     "output_type": "execute_result"
    }
   ],
   "source": [
    "nm.islower()"
   ]
  },
  {
   "cell_type": "code",
   "execution_count": 48,
   "id": "d47cd200",
   "metadata": {},
   "outputs": [
    {
     "data": {
      "text/plain": [
       "False"
      ]
     },
     "execution_count": 48,
     "metadata": {},
     "output_type": "execute_result"
    }
   ],
   "source": [
    "myname.isnumeric()"
   ]
  },
  {
   "cell_type": "code",
   "execution_count": 49,
   "id": "c6925f1c",
   "metadata": {},
   "outputs": [
    {
     "data": {
      "text/plain": [
       "True"
      ]
     },
     "execution_count": 49,
     "metadata": {},
     "output_type": "execute_result"
    }
   ],
   "source": [
    "myname.isprintable() #if it contains escape sequence, it returns false"
   ]
  },
  {
   "cell_type": "code",
   "execution_count": 50,
   "id": "013f8dca",
   "metadata": {},
   "outputs": [
    {
     "data": {
      "text/plain": [
       "False"
      ]
     },
     "execution_count": 50,
     "metadata": {},
     "output_type": "execute_result"
    }
   ],
   "source": [
    "myname.isspace()"
   ]
  },
  {
   "cell_type": "code",
   "execution_count": 53,
   "id": "68880395",
   "metadata": {},
   "outputs": [
    {
     "data": {
      "text/plain": [
       "False"
      ]
     },
     "execution_count": 53,
     "metadata": {},
     "output_type": "execute_result"
    }
   ],
   "source": [
    "myname.istitle()"
   ]
  },
  {
   "cell_type": "code",
   "execution_count": 54,
   "id": "868b97f8",
   "metadata": {},
   "outputs": [],
   "source": [
    "my=\"Vijaya Lakshmi\""
   ]
  },
  {
   "cell_type": "code",
   "execution_count": 55,
   "id": "ff75abf6",
   "metadata": {},
   "outputs": [
    {
     "data": {
      "text/plain": [
       "True"
      ]
     },
     "execution_count": 55,
     "metadata": {},
     "output_type": "execute_result"
    }
   ],
   "source": [
    "my.istitle()"
   ]
  },
  {
   "cell_type": "code",
   "execution_count": 56,
   "id": "8c24ed8d",
   "metadata": {},
   "outputs": [
    {
     "data": {
      "text/plain": [
       "False"
      ]
     },
     "execution_count": 56,
     "metadata": {},
     "output_type": "execute_result"
    }
   ],
   "source": [
    "myname.isupper()"
   ]
  },
  {
   "cell_type": "code",
   "execution_count": 57,
   "id": "7a18d55f",
   "metadata": {},
   "outputs": [
    {
     "data": {
      "text/plain": [
       "'vijaya lakshmi'"
      ]
     },
     "execution_count": 57,
     "metadata": {},
     "output_type": "execute_result"
    }
   ],
   "source": [
    "my.lower()"
   ]
  },
  {
   "cell_type": "code",
   "execution_count": 58,
   "id": "26e63449",
   "metadata": {},
   "outputs": [
    {
     "data": {
      "text/plain": [
       "'VIJAYALAKSHMI'"
      ]
     },
     "execution_count": 58,
     "metadata": {},
     "output_type": "execute_result"
    }
   ],
   "source": [
    "myname.upper()"
   ]
  },
  {
   "cell_type": "code",
   "execution_count": 59,
   "id": "a164f8dc",
   "metadata": {},
   "outputs": [
    {
     "data": {
      "text/plain": [
       "'00vijayalakshmi'"
      ]
     },
     "execution_count": 59,
     "metadata": {},
     "output_type": "execute_result"
    }
   ],
   "source": [
    "myname.zfill(15)"
   ]
  },
  {
   "cell_type": "code",
   "execution_count": 60,
   "id": "ee1f9a25",
   "metadata": {},
   "outputs": [],
   "source": [
    "name=\"Vijaya\""
   ]
  },
  {
   "cell_type": "code",
   "execution_count": 61,
   "id": "33bab9dd",
   "metadata": {},
   "outputs": [
    {
     "data": {
      "text/plain": [
       "'000000000Vijaya'"
      ]
     },
     "execution_count": 61,
     "metadata": {},
     "output_type": "execute_result"
    }
   ],
   "source": [
    "name.zfill(15) #adds zero infront to make it as given length. here its 15  characters"
   ]
  },
  {
   "cell_type": "code",
   "execution_count": 62,
   "id": "2c1d9636",
   "metadata": {},
   "outputs": [
    {
     "name": "stdout",
     "output_type": "stream",
     "text": [
      "vvjayalakshmv\n"
     ]
    }
   ],
   "source": [
    "tab=str.maketrans(\"i\",\"v\")#changes all the 'i' to 'v' in the given string\n",
    "print(myname.translate(tab)) #before translate(),maketrans() has to be used "
   ]
  },
  {
   "cell_type": "code",
   "execution_count": 64,
   "id": "2a35fea7",
   "metadata": {},
   "outputs": [
    {
     "data": {
      "text/plain": [
       "'Vijayalakshmi'"
      ]
     },
     "execution_count": 64,
     "metadata": {},
     "output_type": "execute_result"
    }
   ],
   "source": [
    "myname.title()"
   ]
  },
  {
   "cell_type": "code",
   "execution_count": 68,
   "id": "feab84c9",
   "metadata": {},
   "outputs": [],
   "source": [
    "q=\"CheNNai\""
   ]
  },
  {
   "cell_type": "code",
   "execution_count": 69,
   "id": "74583c85",
   "metadata": {},
   "outputs": [
    {
     "data": {
      "text/plain": [
       "'cHEnnAI'"
      ]
     },
     "execution_count": 69,
     "metadata": {},
     "output_type": "execute_result"
    }
   ],
   "source": [
    "q.swapcase()"
   ]
  },
  {
   "cell_type": "code",
   "execution_count": 71,
   "id": "8e5afd00",
   "metadata": {},
   "outputs": [
    {
     "name": "stdout",
     "output_type": "stream",
     "text": [
      "Apple-orange-Grapes\n"
     ]
    }
   ],
   "source": [
    "fruits=(\"Apple\",\"orange\",\"Grapes\")\n",
    "j=\"-\".join(fruits)\n",
    "print(j)"
   ]
  },
  {
   "cell_type": "code",
   "execution_count": 73,
   "id": "65c0928d",
   "metadata": {},
   "outputs": [
    {
     "data": {
      "text/plain": [
       "'vijayalakshmi*******'"
      ]
     },
     "execution_count": 73,
     "metadata": {},
     "output_type": "execute_result"
    }
   ],
   "source": [
    "myname.ljust(20,\"*\")"
   ]
  },
  {
   "cell_type": "code",
   "execution_count": 74,
   "id": "e4291ba4",
   "metadata": {},
   "outputs": [],
   "source": [
    "animal=\"                 Lion                 \" #removes left white space"
   ]
  },
  {
   "cell_type": "code",
   "execution_count": 76,
   "id": "155a3a12",
   "metadata": {},
   "outputs": [
    {
     "name": "stdout",
     "output_type": "stream",
     "text": [
      "Lion                  is the king of forest\n"
     ]
    }
   ],
   "source": [
    "a=animal.lstrip() #strip-removes whitespaces\n",
    "print(a,\"is the king of forest\")"
   ]
  },
  {
   "cell_type": "code",
   "execution_count": 78,
   "id": "8820a10c",
   "metadata": {},
   "outputs": [],
   "source": [
    "text=\"i'm a good girl\" #split the string as separate before and after the given word"
   ]
  },
  {
   "cell_type": "code",
   "execution_count": 79,
   "id": "1a41b125",
   "metadata": {},
   "outputs": [
    {
     "data": {
      "text/plain": [
       "(\"i'm a \", 'good', ' girl')"
      ]
     },
     "execution_count": 79,
     "metadata": {},
     "output_type": "execute_result"
    }
   ],
   "source": [
    "text.partition(\"good\")"
   ]
  },
  {
   "cell_type": "code",
   "execution_count": 81,
   "id": "eacbac51",
   "metadata": {},
   "outputs": [
    {
     "data": {
      "text/plain": [
       "'VIJAYA'"
      ]
     },
     "execution_count": 81,
     "metadata": {},
     "output_type": "execute_result"
    }
   ],
   "source": [
    "nm"
   ]
  },
  {
   "cell_type": "code",
   "execution_count": 85,
   "id": "4b1c1f4a",
   "metadata": {},
   "outputs": [],
   "source": [
    "nm=nm.replace(\"VIJAYA\",\"kaviya\")"
   ]
  },
  {
   "cell_type": "code",
   "execution_count": 86,
   "id": "52bf8bda",
   "metadata": {},
   "outputs": [
    {
     "data": {
      "text/plain": [
       "'kaviya'"
      ]
     },
     "execution_count": 86,
     "metadata": {},
     "output_type": "execute_result"
    }
   ],
   "source": [
    "nm"
   ]
  },
  {
   "cell_type": "code",
   "execution_count": 87,
   "id": "fe645891",
   "metadata": {},
   "outputs": [],
   "source": [
    "greetings=\"Hi all welcome to\\n python\"#split as list when it finds the escape sequence"
   ]
  },
  {
   "cell_type": "code",
   "execution_count": 88,
   "id": "e5846810",
   "metadata": {},
   "outputs": [
    {
     "data": {
      "text/plain": [
       "['Hi all welcome to', ' python']"
      ]
     },
     "execution_count": 88,
     "metadata": {},
     "output_type": "execute_result"
    }
   ],
   "source": [
    "greetings.splitlines()"
   ]
  },
  {
   "cell_type": "code",
   "execution_count": 89,
   "id": "6272838b",
   "metadata": {},
   "outputs": [
    {
     "data": {
      "text/plain": [
       "12"
      ]
     },
     "execution_count": 89,
     "metadata": {},
     "output_type": "execute_result"
    }
   ],
   "source": [
    "myname.rfind(\"i\") #last occurance of i"
   ]
  },
  {
   "cell_type": "code",
   "execution_count": 91,
   "id": "2baec33c",
   "metadata": {},
   "outputs": [
    {
     "data": {
      "text/plain": [
       "7"
      ]
     },
     "execution_count": 91,
     "metadata": {},
     "output_type": "execute_result"
    }
   ],
   "source": [
    "myname.rindex(\"a\")#last occurance of a in the string"
   ]
  },
  {
   "cell_type": "code",
   "execution_count": null,
   "id": "5d8d40b1",
   "metadata": {},
   "outputs": [],
   "source": []
  }
 ],
 "metadata": {
  "kernelspec": {
   "display_name": "Python 3 (ipykernel)",
   "language": "python",
   "name": "python3"
  },
  "language_info": {
   "codemirror_mode": {
    "name": "ipython",
    "version": 3
   },
   "file_extension": ".py",
   "mimetype": "text/x-python",
   "name": "python",
   "nbconvert_exporter": "python",
   "pygments_lexer": "ipython3",
   "version": "3.7.6rc1"
  }
 },
 "nbformat": 4,
 "nbformat_minor": 5
}
