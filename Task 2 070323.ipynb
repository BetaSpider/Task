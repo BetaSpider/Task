{
 "cells": [
  {
   "cell_type": "markdown",
   "id": "724aa5e3",
   "metadata": {},
   "source": [
    "# 1. if else"
   ]
  },
  {
   "cell_type": "code",
   "execution_count": 2,
   "id": "0ee9fc9f",
   "metadata": {},
   "outputs": [
    {
     "name": "stdout",
     "output_type": "stream",
     "text": [
      " enter the no:-2\n",
      "-2 is a negative number\n"
     ]
    }
   ],
   "source": [
    "n=int(input (\" enter the no:\"))\n",
    "if n> 0: \n",
    "    print (n,\"is a positive no\")\n",
    "else:\n",
    "    print(f\"{n} is a negative number\")"
   ]
  },
  {
   "cell_type": "markdown",
   "id": "987cb358",
   "metadata": {},
   "source": [
    "# 2. example 2"
   ]
  },
  {
   "cell_type": "code",
   "execution_count": 5,
   "id": "e58e5cfb",
   "metadata": {},
   "outputs": [
    {
     "name": "stdout",
     "output_type": "stream",
     "text": [
      " enter the price of petrol:245\n",
      "petrol price is skyrocketed\n"
     ]
    }
   ],
   "source": [
    "price= int( input (\" enter the price of petrol:\"))\n",
    "if price>=200:\n",
    "    print(\"petrol price is skyrocketed\")\n",
    "else: \n",
    "    print(\"moderate price\")"
   ]
  },
  {
   "cell_type": "markdown",
   "id": "e52dd6bb",
   "metadata": {},
   "source": [
    "# 3. if elif else"
   ]
  },
  {
   "cell_type": "code",
   "execution_count": 10,
   "id": "5d33325c",
   "metadata": {},
   "outputs": [
    {
     "name": "stdout",
     "output_type": "stream",
     "text": [
      " enter the mark76\n",
      "you have scored super cool marks\n"
     ]
    }
   ],
   "source": [
    "mark=int(input(\" enter the mark\"))\n",
    "if mark==35: \n",
    "    print(\"Just pass\")\n",
    "elif mark >=70 and mark<=100:\n",
    "    print(\"you have scored super cool marks\")\n",
    "elif  mark>=36 and mark<70:\n",
    "    print(\"above average\")\n",
    "else:\n",
    "    print(\"Sorry! better luck next time\")\n",
    "    "
   ]
  },
  {
   "cell_type": "markdown",
   "id": "dc0a265b",
   "metadata": {},
   "source": [
    "# 4. example 2"
   ]
  },
  {
   "cell_type": "code",
   "execution_count": 16,
   "id": "7865aed4",
   "metadata": {},
   "outputs": [
    {
     "name": "stdout",
     "output_type": "stream",
     "text": [
      " enter the number-87\n",
      "negative no\n"
     ]
    }
   ],
   "source": [
    "n=int(input(\" enter the number\"))\n",
    "if n>0:\n",
    "    print(\"positive no\")\n",
    "elif n<0:\n",
    "    print(\"negative no\")\n",
    "else: \n",
    "    print(\"zero\")\n",
    "    "
   ]
  },
  {
   "cell_type": "markdown",
   "id": "ea42e382",
   "metadata": {},
   "source": [
    "# 5. for "
   ]
  },
  {
   "cell_type": "code",
   "execution_count": 19,
   "id": "6b5072fd",
   "metadata": {},
   "outputs": [
    {
     "name": "stdout",
     "output_type": "stream",
     "text": [
      "1 3 5 7 9 11 13 15 17 19 "
     ]
    }
   ],
   "source": [
    "for i in range(1,20,2):\n",
    "    print(i, end=' ')"
   ]
  },
  {
   "cell_type": "markdown",
   "id": "10ea6442",
   "metadata": {},
   "source": [
    "# 6. example 2-factorial"
   ]
  },
  {
   "cell_type": "code",
   "execution_count": 22,
   "id": "17b8f697",
   "metadata": {},
   "outputs": [
    {
     "name": "stdout",
     "output_type": "stream",
     "text": [
      "enter the number5\n",
      "The factorial of 5 is 120\n"
     ]
    }
   ],
   "source": [
    "n=int(input(\"enter the number\"))\n",
    "f=1\n",
    "for i in range (1,n+1):\n",
    "    f=f*i \n",
    "print(f\"The factorial of {n} is {f}\")"
   ]
  },
  {
   "cell_type": "markdown",
   "id": "49c4edc3",
   "metadata": {},
   "source": [
    "# 7. while "
   ]
  },
  {
   "cell_type": "code",
   "execution_count": 24,
   "id": "7265ddcb",
   "metadata": {},
   "outputs": [
    {
     "name": "stdout",
     "output_type": "stream",
     "text": [
      "1  2  3  4  5  6  7  8  9  10  "
     ]
    }
   ],
   "source": [
    "n=1\n",
    "while n<=10:\n",
    "    print (n, end='  ')\n",
    "    n+=1"
   ]
  },
  {
   "cell_type": "markdown",
   "id": "912a6962",
   "metadata": {},
   "source": [
    "# 8. while 2nd example "
   ]
  },
  {
   "cell_type": "code",
   "execution_count": 10,
   "id": "9e6b35d8",
   "metadata": {},
   "outputs": [
    {
     "name": "stdout",
     "output_type": "stream",
     "text": [
      "10  8  6  4  2  "
     ]
    }
   ],
   "source": [
    "n=10\n",
    "while n>=2:\n",
    "    print(n,end='  ')\n",
    "    n-=2"
   ]
  },
  {
   "cell_type": "markdown",
   "id": "9e75be59",
   "metadata": {},
   "source": [
    "# 9. UDF without for"
   ]
  },
  {
   "cell_type": "code",
   "execution_count": 14,
   "id": "d6d87caa",
   "metadata": {},
   "outputs": [
    {
     "name": "stdout",
     "output_type": "stream",
     "text": [
      " enter ur nameViji\n",
      " ur name is Viji\n"
     ]
    }
   ],
   "source": [
    "name=input(\" enter ur name\")\n",
    "def print_name(name):\n",
    "    return name \n",
    "print(\" ur name is\",print_name(name))"
   ]
  },
  {
   "cell_type": "markdown",
   "id": "e92936e0",
   "metadata": {},
   "source": [
    "# 10. UDF example 2"
   ]
  },
  {
   "cell_type": "code",
   "execution_count": 15,
   "id": "eb59eb8b",
   "metadata": {},
   "outputs": [
    {
     "name": "stdout",
     "output_type": "stream",
     "text": [
      "the sum is: 7\n"
     ]
    }
   ],
   "source": [
    "def sum(a,b):\n",
    "    return a+b   \n",
    "print(\"the sum is:\",sum(2,5))"
   ]
  },
  {
   "cell_type": "markdown",
   "id": "256f38ae",
   "metadata": {},
   "source": [
    "# 11. UDF with if "
   ]
  },
  {
   "cell_type": "code",
   "execution_count": 1,
   "id": "f131f324",
   "metadata": {},
   "outputs": [
    {
     "name": "stdout",
     "output_type": "stream",
     "text": [
      "enter the no:5\n",
      "odd number\n"
     ]
    }
   ],
   "source": [
    "n=int(input(\"enter the no:\"))\n",
    "def odd_even(n):\n",
    "    if n%2==0:\n",
    "        print(\"even number\")\n",
    "    else: \n",
    "        print(\"odd number\")\n",
    "odd_even(n)       "
   ]
  },
  {
   "cell_type": "markdown",
   "id": "907001b1",
   "metadata": {},
   "source": [
    "# 12. if with in operator"
   ]
  },
  {
   "cell_type": "code",
   "execution_count": 1,
   "id": "c72e90d7",
   "metadata": {},
   "outputs": [
    {
     "name": "stdout",
     "output_type": "stream",
     "text": [
      "enter the string:Madurai is a beautiful city\n",
      "string found\n"
     ]
    }
   ],
   "source": [
    "s1=input(\"enter the string:\")\n",
    "s2=\"Madurai\"\n",
    "if s2 in s1:\n",
    "    print(\"string found\")\n",
    "    "
   ]
  },
  {
   "cell_type": "markdown",
   "id": "a64bb0f8",
   "metadata": {},
   "source": [
    "# 13. if with not in operator"
   ]
  },
  {
   "cell_type": "code",
   "execution_count": 3,
   "id": "26e4d014",
   "metadata": {},
   "outputs": [
    {
     "name": "stdout",
     "output_type": "stream",
     "text": [
      " onion is a vegetable \n"
     ]
    }
   ],
   "source": [
    "s1=[\"apple\",\"orange\", \"Mango\"]\n",
    "s2= \"onion\"\n",
    "if s2 not in s1:\n",
    "    print(f\" {s2} is a vegetable \")"
   ]
  },
  {
   "cell_type": "markdown",
   "id": "4db2f5f4",
   "metadata": {},
   "source": [
    "# 14. for with  if: to display no of vowels& consonants"
   ]
  },
  {
   "cell_type": "code",
   "execution_count": 15,
   "id": "6884b9ea",
   "metadata": {},
   "outputs": [
    {
     "name": "stdout",
     "output_type": "stream",
     "text": [
      "Enter the string:Batch six has amazing people\n",
      "the string has 9 vowels and 19 consonants\n"
     ]
    }
   ],
   "source": [
    "s1=input(\"Enter the string:\")\n",
    "s2=\"aAeEiIoOuU\"\n",
    "vow,cons=0,0\n",
    "for i in s1:\n",
    "    if i in s2:\n",
    "        vow+=1\n",
    "    else:\n",
    "        cons+=1\n",
    "print(f\"the string has {vow} vowels and {cons} consonants\")"
   ]
  },
  {
   "cell_type": "markdown",
   "id": "f7810f7d",
   "metadata": {},
   "source": [
    "# 15 & 16. break & continue"
   ]
  },
  {
   "cell_type": "code",
   "execution_count": 18,
   "id": "366dbc65",
   "metadata": {},
   "outputs": [
    {
     "name": "stdout",
     "output_type": "stream",
     "text": [
      "v  i  j  \n",
      "Programs ends\n"
     ]
    }
   ],
   "source": [
    "word =\"vijayalakshmi\"\n",
    "for i in word:\n",
    "    if i=='a':\n",
    "        break\n",
    "    print (i,end='  ')\n",
    "print(\"\\nPrograms ends\")\n",
    "        "
   ]
  },
  {
   "cell_type": "code",
   "execution_count": 21,
   "id": "138c08e4",
   "metadata": {},
   "outputs": [
    {
     "name": "stdout",
     "output_type": "stream",
     "text": [
      "B a t c   s i x \n",
      " Happy ending\n"
     ]
    }
   ],
   "source": [
    "for i in \"Batch six\":\n",
    "    if i==\"h\":\n",
    "        continue\n",
    "    print(i,end=' ')\n",
    "print(\"\\n Happy ending\")"
   ]
  },
  {
   "cell_type": "code",
   "execution_count": null,
   "id": "bd5f1fd3",
   "metadata": {},
   "outputs": [],
   "source": []
  },
  {
   "cell_type": "code",
   "execution_count": null,
   "id": "6a162597",
   "metadata": {},
   "outputs": [],
   "source": []
  },
  {
   "cell_type": "code",
   "execution_count": null,
   "id": "ab2bf8a3",
   "metadata": {},
   "outputs": [],
   "source": []
  },
  {
   "cell_type": "code",
   "execution_count": null,
   "id": "a2a8bec3",
   "metadata": {},
   "outputs": [],
   "source": []
  },
  {
   "cell_type": "code",
   "execution_count": null,
   "id": "71189f69",
   "metadata": {},
   "outputs": [],
   "source": []
  },
  {
   "cell_type": "code",
   "execution_count": null,
   "id": "6a50fb64",
   "metadata": {},
   "outputs": [],
   "source": []
  },
  {
   "cell_type": "code",
   "execution_count": null,
   "id": "b01afa39",
   "metadata": {},
   "outputs": [],
   "source": []
  },
  {
   "cell_type": "code",
   "execution_count": null,
   "id": "83a9b654",
   "metadata": {},
   "outputs": [],
   "source": []
  },
  {
   "cell_type": "code",
   "execution_count": null,
   "id": "110d93b5",
   "metadata": {},
   "outputs": [],
   "source": []
  },
  {
   "cell_type": "code",
   "execution_count": null,
   "id": "f5623530",
   "metadata": {},
   "outputs": [],
   "source": []
  },
  {
   "cell_type": "code",
   "execution_count": null,
   "id": "9fa60875",
   "metadata": {},
   "outputs": [],
   "source": []
  },
  {
   "cell_type": "code",
   "execution_count": null,
   "id": "0e08e51c",
   "metadata": {},
   "outputs": [],
   "source": []
  },
  {
   "cell_type": "code",
   "execution_count": null,
   "id": "b16343cb",
   "metadata": {},
   "outputs": [],
   "source": []
  },
  {
   "cell_type": "code",
   "execution_count": null,
   "id": "d1fecc54",
   "metadata": {},
   "outputs": [],
   "source": []
  },
  {
   "cell_type": "code",
   "execution_count": null,
   "id": "8d479809",
   "metadata": {},
   "outputs": [],
   "source": []
  },
  {
   "cell_type": "code",
   "execution_count": 13,
   "id": "39f49958",
   "metadata": {},
   "outputs": [],
   "source": []
  }
 ],
 "metadata": {
  "kernelspec": {
   "display_name": "Python 3 (ipykernel)",
   "language": "python",
   "name": "python3"
  },
  "language_info": {
   "codemirror_mode": {
    "name": "ipython",
    "version": 3
   },
   "file_extension": ".py",
   "mimetype": "text/x-python",
   "name": "python",
   "nbconvert_exporter": "python",
   "pygments_lexer": "ipython3",
   "version": "3.7.6rc1"
  }
 },
 "nbformat": 4,
 "nbformat_minor": 5
}
